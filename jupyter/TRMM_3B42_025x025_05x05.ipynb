{
 "cells": [
  {
   "cell_type": "code",
   "execution_count": 1,
   "metadata": {},
   "outputs": [],
   "source": [
    "import os\n",
    "import glob\n",
    "import numpy as np\n",
    "\n",
    "import subprocess\n",
    "\n",
    "import clima_anom as ca\n",
    "import matplotlib.pyplot as plt\n",
    "import matplotlib.cbook\n",
    "import matplotlib.gridspec as gridspec\n",
    "import cartopy\n",
    "import cartopy.crs as ccrs"
   ]
  },
  {
   "cell_type": "code",
   "execution_count": 13,
   "metadata": {},
   "outputs": [],
   "source": [
    "data_in = '/mnt/Data/Data/TRMM/3B42_1999_01_2013_12_1dy_025x025.nc'"
   ]
  },
  {
   "cell_type": "code",
   "execution_count": 21,
   "metadata": {},
   "outputs": [],
   "source": [
    "season = ['summer', 'autumn', 'winter', 'spring']\n",
    "list_season = ['selmon,1,2,12', 'selmon,3,4,5', 'selmon,6,7,8', 'selmon,9,10,11']"
   ]
  },
  {
   "cell_type": "code",
   "execution_count": 27,
   "metadata": {},
   "outputs": [
    {
     "name": "stderr",
     "output_type": "stream",
     "text": [
      "cdo    selmonth: Processed 98950320 values from 1 variable over 5479 timesteps [10.95s 3210MB].\n",
      "cdo    selmonth: Processed 100850400 values from 1 variable over 5479 timesteps [0.79s 3210MB].\n",
      "cdo    selmonth: Processed 100850400 values from 1 variable over 5479 timesteps [8.62s 3210MB].\n",
      "cdo    selmonth: Processed 99754200 values from 1 variable over 5479 timesteps [0.77s 3210MB].\n"
     ]
    }
   ],
   "source": [
    "a = 0\n",
    "for meses in list_season:\n",
    "    data_out = '/mnt/Data/Data/TRMM/Season/3B42_1999_01_2013_12_1dy_025x025_'+season[a]+'.nc'\n",
    "    subprocess.run([\"cdo\", meses, data_in, data_out])\n",
    "    a = a + 1\n"
   ]
  },
  {
   "cell_type": "code",
   "execution_count": null,
   "metadata": {},
   "outputs": [],
   "source": []
  }
 ],
 "metadata": {
  "interpreter": {
   "hash": "c6c4883052875ec3257edf99ee092a790b9a432228222ee7e742d4f8a559e5a8"
  },
  "kernelspec": {
   "display_name": "Python 3.9.7 ('AXE')",
   "language": "python",
   "name": "python3"
  },
  "language_info": {
   "codemirror_mode": {
    "name": "ipython",
    "version": 3
   },
   "file_extension": ".py",
   "mimetype": "text/x-python",
   "name": "python",
   "nbconvert_exporter": "python",
   "pygments_lexer": "ipython3",
   "version": "3.9.7"
  },
  "orig_nbformat": 4
 },
 "nbformat": 4,
 "nbformat_minor": 2
}
