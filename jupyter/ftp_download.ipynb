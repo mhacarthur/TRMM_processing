{
 "cells": [
  {
   "cell_type": "code",
   "execution_count": null,
   "metadata": {},
   "outputs": [],
   "source": [
    "import glob\n",
    "import os\n",
    "import pandas as pd\n",
    "import clima_anom as ca\n",
    "import subprocess"
   ]
  },
  {
   "cell_type": "code",
   "execution_count": null,
   "metadata": {},
   "outputs": [],
   "source": [
    "USER=os.environ['IMERG_USER']\n",
    "PASS=os.environ['IMERG_PASS']"
   ]
  },
  {
   "cell_type": "code",
   "execution_count": null,
   "metadata": {},
   "outputs": [],
   "source": [
    "list_txt = '/mnt/Data/Data/TRMM/list_download/TRMM_3B42_v7_1dy_2013_01_2013_12.txt'\n",
    "with open(list_txt) as f:\n",
    "    file_download = f.readlines()\n",
    "\n",
    "len_files = len(file_download)"
   ]
  },
  {
   "cell_type": "code",
   "execution_count": null,
   "metadata": {},
   "outputs": [],
   "source": [
    "for t in range(1,10):\n",
    "    name1 = file_download[t].split('/')[-1]\n",
    "    name3 = '3B42_Daily.'+name1.split('.')[1]+'.'+name1.split('.')[2]+'.nc4.nc4'\n",
    "    print(name3)"
   ]
  },
  {
   "cell_type": "code",
   "execution_count": null,
   "metadata": {},
   "outputs": [],
   "source": [
    "for t in range(1,len_files):\n",
    "    name1 = file_download[t].split('/')[-1]\n",
    "    name3 = '3B42_Daily.'+name1.split('.')[1]+'.'+name1.split('.')[2]+'.nc4.nc4'\n",
    "    subprocess.run([\"wget\", \"--user\", USER, \"--password\", PASS, file_download[t], \"-O\", '/mnt/Data/Data/TRMM/download/'+name3])"
   ]
  }
 ],
 "metadata": {
  "interpreter": {
   "hash": "c6c4883052875ec3257edf99ee092a790b9a432228222ee7e742d4f8a559e5a8"
  },
  "kernelspec": {
   "display_name": "Python 3.9.7 ('AXE')",
   "language": "python",
   "name": "python3"
  },
  "language_info": {
   "codemirror_mode": {
    "name": "ipython",
    "version": 3
   },
   "file_extension": ".py",
   "mimetype": "text/x-python",
   "name": "python",
   "nbconvert_exporter": "python",
   "pygments_lexer": "ipython3",
   "version": "3.9.7"
  },
  "orig_nbformat": 4
 },
 "nbformat": 4,
 "nbformat_minor": 2
}
